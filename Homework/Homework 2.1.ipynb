{
 "cells": [
  {
   "cell_type": "code",
   "execution_count": 7,
   "metadata": {},
   "outputs": [],
   "source": [
    "import numpy as np\n",
    "import matplotlib.pyplot as plt\n",
    "import matplotlib.animation as animation\n",
    "%matplotlib inline"
   ]
  },
  {
   "cell_type": "markdown",
   "metadata": {},
   "source": [
    "### Homework 2.1.1 - 1D Wave\n",
    "\n",
    "Solve the wave equation\n",
    "\n",
    "$$\\frac{{{\\partial ^2}u}}{{\\partial {t^2}}} = c^2 \\frac{{{\\partial ^2}u}}{{\\partial {x^2}}}$$\n",
    "\n",
    "subjected to the **feeding wave boundary condition** at $x = 0$,\n",
    "\n",
    "$$u(0, t) = 2\\sin(\\omega t)$$\n",
    "\n",
    "and the boundary condition on the other end, $x = L$ is an **open boundary condition**.\n",
    "\n",
    "where $L = 1$ and the initial condition at $t=0$ is:\n",
    "\n",
    "$$u(x, 0) = 0$$\n",
    "\n",
    "You choose appropreate values of **the speed ($c$)** and **the frequency ($\\omega$)** to make a nice time-animated graph video clip."
   ]
  },
  {
   "cell_type": "code",
   "execution_count": 17,
   "metadata": {},
   "outputs": [
    {
     "data": {
      "image/png": "[encoded data removed]",
      "text/plain": [
       "<Figure size 432x288 with 1 Axes>"
      ]
     },
     "metadata": {
      "needs_background": "light"
     },
     "output_type": "display_data"
    }
   ],
   "source": [
    "# Set up an array of ux0\n",
    "N = 100\n",
    "L = 1\n",
    "x = np.linspace(0, L, num=N+1, endpoint=True)\n",
    "Ux0 = np.zeros_like(x)\n",
    "\n",
    "# ensuring both ends are fixed at zero\n",
    "Ux0[0] = 0\n",
    "Ux0[N] = 0\n",
    "\n",
    "Uold = Ux0\n",
    "# Set up initial condition for the time derivative at t = 0\n",
    "dUx0 = np.zeros(N+1)\n",
    "\n",
    "dt = 0.01 # Set up time step size\n",
    "dh = L / N # Spatial step size\n",
    "c = 1\n",
    "eps = ((dt*c/dh)**2)\n",
    "omega = 15\n",
    "\n",
    "# Calculate time step j = 1\n",
    "Uxj = np.zeros(N+1)\n",
    "for i in np.linspace(1, 99, 99, dtype=int):\n",
    "    Uxj[i] = 0.5*eps*(Ux0[i+1] + Ux0[i-1]) + (1. - eps)*(Ux0[i]) + dt * dUx0[i]\n",
    "\n",
    "Uxj[0] = 2*np.sin(omega*1*dt)\n",
    "UAll = np.array([Uxj])\n",
    "fig1 = plt.figure()\n",
    "l = plt.plot(x, Uxj)\n",
    "axes = plt.gca()\n",
    "axes.set_ylim([-3,3])\n",
    "\n",
    "for j in range(200):\n",
    "    Unew = np.zeros(N+1)\n",
    "    for i in np.linspace(1, 99, 99, dtype=int):\n",
    "        Unew[i] = eps*(Uxj[i+1] + Uxj[i-1]) + 2.*(1. - eps)*Uxj[i] - Uold[i]\n",
    "    Unew[0] = 2*np.sin(omega*j*dt)\n",
    "    Unew[-1] = Uxj[-1] - c*(Uxj[-1] - Uxj[-2])\n",
    "    Uold =Uxj\n",
    "    Uxj = Unew\n",
    "    UAll = np.vstack([UAll, Unew])\n",
    "\n",
    "\n",
    "        \n",
    "def update_line(num, line):\n",
    "    line.set_data(x, UAll[num])\n",
    "    return line,\n",
    "        \n",
    "line_ani = animation.FuncAnimation(fig1, update_line, 200, fargs=(l), interval=20, blit=True)\n",
    "writergif = animation.PillowWriter(fps=45)\n",
    "line_ani.save(\"hw21.gif\",writer=writergif)\n",
    "plt.show()"
   ]
  },
  {
   "cell_type": "markdown",
   "metadata": {},
   "source": [
    "<img src=\"hw21.gif\">"
   ]
  },
  {
   "cell_type": "markdown",
   "metadata": {},
   "source": [
    "___\n",
    "### Homework 2.1.2 - 1D Wave with damping\n",
    "\n",
    "Solve the wave equation\n",
    "\n",
    "$$\\frac{\\partial^2 u}{\\partial t^2} = c^2 \\frac{\\partial^2 u}{\\partial x^2} - k \\frac{\\partial u}{\\partial t}$$\n",
    "\n",
    "subjected to the **feeding wave boundary condition** at $x = 0$,\n",
    "\n",
    "$$u(0, t) = 2\\sin(\\omega t)$$\n",
    "\n",
    "and the boundary condition on the other end, $x = L$ is an **open boundary condition**.\n",
    "\n",
    "where $L = 1$ and the initial condition at $t=0$ is:\n",
    "\n",
    "$$u(x, 0) = 0$$\n",
    "\n",
    "You choose appropreate values of **the speed ($c$)**, **the frequency ($\\omega$)**, and **the damping factor ($k$)** to make a nice time-animated graph video clip."
   ]
  },
  {
   "cell_type": "code",
   "execution_count": 18,
   "metadata": {},
   "outputs": [
    {
     "data": {
      "image/png": "[encoded data removed]",
      "text/plain": [
       "<Figure size 432x288 with 1 Axes>"
      ]
     },
     "metadata": {
      "needs_background": "light"
     },
     "output_type": "display_data"
    }
   ],
   "source": [
    "# Set up an array of ux0\n",
    "N = 100\n",
    "L = 1\n",
    "x = np.linspace(0, L, num=N+1, endpoint=True)\n",
    "Ux0 = np.zeros_like(x)\n",
    "\n",
    "# ensuring both ends are fixed at zero\n",
    "Ux0[0] = 0\n",
    "Ux0[N] = 0\n",
    "\n",
    "Uold = Ux0\n",
    "# Set up initial condition for the time derivative at t = 0\n",
    "dUx0 = np.zeros(N+1)\n",
    "\n",
    "dt = 0.01 # Set up time step size\n",
    "dh = L / N # Spatial step size\n",
    "c = 1\n",
    "eps = ((dt*c/dh)**2)\n",
    "omega = 15\n",
    "k = 1\n",
    "\n",
    "# Calculate time step j = 1\n",
    "Uxj = np.zeros(N+1)\n",
    "for i in np.linspace(1, 99, 99, dtype=int):\n",
    "    Uxj[i] = 0.5*eps*(Ux0[i+1] + Ux0[i-1]) + (1. - eps)*(Ux0[i]) + dt * dUx0[i]\n",
    "\n",
    "Uxj[0] = 2*np.sin(omega*1*dt)\n",
    "UAll = np.array([Uxj])\n",
    "fig1 = plt.figure()\n",
    "l = plt.plot(x, Uxj)\n",
    "axes = plt.gca()\n",
    "axes.set_ylim([-3,3])\n",
    "\n",
    "for j in range(200):\n",
    "    Unew = np.zeros(N+1)\n",
    "    for i in np.linspace(1, 99, 99, dtype=int):\n",
    "        Unew[i] = (2*eps*(Uxj[i+1]-2*Uxj[i]+Uxj[i-1]) + k*dt*Uold[i] + 2*(2*Uxj[i] - Uold[i])) / (2+k*dt)\n",
    "    Unew[0] = 2*np.sin(omega*j*dt)\n",
    "    Unew[-1] = Uxj[-1] - c*(Uxj[-1] - Uxj[-2])\n",
    "    Uold =Uxj\n",
    "    Uxj = Unew\n",
    "    UAll = np.vstack([UAll, Unew])\n",
    "\n",
    "\n",
    "        \n",
    "def update_line(num, line):\n",
    "    line.set_data(x, UAll[num])\n",
    "    return line,\n",
    "        \n",
    "line_ani = animation.FuncAnimation(fig1, update_line, 200, fargs=(l), interval=20, blit=True)\n",
    "writergif = animation.PillowWriter(fps=45)\n",
    "line_ani.save(\"hw22.gif\",writer=writergif)\n",
    "plt.show()"
   ]
  },
  {
   "cell_type": "markdown",
   "metadata": {},
   "source": [
    "<img src=\"hw22.gif\">"
   ]
  },
  {
   "cell_type": "code",
   "execution_count": null,
   "metadata": {},
   "outputs": [],
   "source": []
  }
 ],
 "metadata": {
  "kernelspec": {
   "display_name": "Python 3 (ipykernel)",
   "language": "python",
   "name": "python3"
  },
  "language_info": {
   "codemirror_mode": {
    "name": "ipython",
    "version": 3
   },
   "file_extension": ".py",
   "mimetype": "text/x-python",
   "name": "python",
   "nbconvert_exporter": "python",
   "pygments_lexer": "ipython3",
   "version": "3.9.6"
  }
 },
 "nbformat": 4,
 "nbformat_minor": 4
}
